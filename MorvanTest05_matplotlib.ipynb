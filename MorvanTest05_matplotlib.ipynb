{
 "cells": [
  {
   "cell_type": "code",
   "execution_count": 1,
   "metadata": {},
   "outputs": [],
   "source": [
    "import tensorflow as tf\n",
    "import numpy as np\n",
    "%matplotlib qt\n",
    "import matplotlib.pyplot as plt\n",
    "\n",
    "def add_layer(inputs, in_size , out_size , activation_function = None):\n",
    "    # in_size行，out_size列\n",
    "    Weights = tf.Variable(tf.random_normal([in_size , out_size]))\n",
    "    # 1行 ， out_size列\n",
    "    biases = tf.Variable(tf.zeros([1 , out_size]) + 0.1)\n",
    "    Wx_plus_b = tf.matmul(inputs , Weights) + biases\n",
    "    if activation_function is None :\n",
    "        outputs = Wx_plus_b\n",
    "    else:\n",
    "        outputs = activation_function(Wx_plus_b)\n",
    "    return (outputs)"
   ]
  },
  {
   "cell_type": "markdown",
   "metadata": {},
   "source": [
    "## 构建数据，线性排列，从-1到1，300个单位；[:, np.newaxis]用来加一个维度，有300行"
   ]
  },
  {
   "cell_type": "code",
   "execution_count": 2,
   "metadata": {},
   "outputs": [],
   "source": [
    "\n",
    "x_data = np.linspace(-1 , 1 ,300)[:, np.newaxis]\n",
    "#加入噪点,正态分布，均值是0，标准差是0.05，格式是x_data.shape\n",
    "noise = np.random.normal(0 , 0.05 , x_data.shape)\n",
    "#y_data是x_data的二次方\n",
    "y_data = np.square(x_data) - 0.5 + noise"
   ]
  },
  {
   "cell_type": "markdown",
   "metadata": {},
   "source": [
    "## 用于把值输入train_step , None表示无论给多少给例子都可以"
   ]
  },
  {
   "cell_type": "code",
   "execution_count": 3,
   "metadata": {},
   "outputs": [],
   "source": [
    "xs = tf.placeholder(tf.float32,[None , 1])\n",
    "ys = tf.placeholder(tf.float32,[None , 1])"
   ]
  },
  {
   "cell_type": "markdown",
   "metadata": {},
   "source": [
    "#构建layer,输入层只有1个神经元x，输出层也只有1个y，假设隐藏层有10个神经元"
   ]
  },
  {
   "cell_type": "code",
   "execution_count": 4,
   "metadata": {},
   "outputs": [],
   "source": [
    "l1 = add_layer(xs , 1 , 10 , activation_function = tf.nn.relu)\n",
    "prediction = add_layer(l1 , 10 , 1 , activation_function = None)\n",
    "#reduction_indices = [1]表示行求和，前面数据有300行\n",
    "loss = tf.reduce_mean(tf.reduce_sum(tf.square(ys - prediction) , reduction_indices = [1]))"
   ]
  },
  {
   "cell_type": "markdown",
   "metadata": {},
   "source": [
    "## 0.1指的是学习效率，通常小于1"
   ]
  },
  {
   "cell_type": "code",
   "execution_count": 5,
   "metadata": {},
   "outputs": [],
   "source": [
    "train_step = tf.train.GradientDescentOptimizer(0.1).minimize(loss)"
   ]
  },
  {
   "cell_type": "markdown",
   "metadata": {},
   "source": [
    "## 初始化"
   ]
  },
  {
   "cell_type": "code",
   "execution_count": 6,
   "metadata": {},
   "outputs": [],
   "source": [
    "init = tf.global_variables_initializer()\n",
    "sess = tf.Session()\n",
    "sess.run(init)"
   ]
  },
  {
   "cell_type": "markdown",
   "metadata": {},
   "source": [
    "## 显示真实数据"
   ]
  },
  {
   "cell_type": "code",
   "execution_count": 7,
   "metadata": {},
   "outputs": [],
   "source": [
    "fig = plt.figure()\n",
    "ax = fig.add_subplot( 1 , 1 , 1 )\n",
    "ax.scatter( x_data , y_data )\n",
    "plt.ion()\n",
    "plt.show()"
   ]
  },
  {
   "cell_type": "markdown",
   "metadata": {},
   "source": [
    "## 进行训练，输出loss。改写后显示拟合的曲线"
   ]
  },
  {
   "cell_type": "code",
   "execution_count": 8,
   "metadata": {},
   "outputs": [],
   "source": [
    "for i in range(1000):\n",
    "    sess.run(train_step , feed_dict = {xs : x_data , ys : y_data})\n",
    "    if i % 50==0:\n",
    "        #print(sess.run(loss , feed_dict = {xs : x_data , ys : y_data}))\n",
    "        try :\n",
    "            ax.lines.remove( lines[0])\n",
    "        except Exception:\n",
    "            pass\n",
    "        prediction_value = sess.run( prediction , feed_dict = { xs : x_data })\n",
    "        lines = ax.plot( x_data , prediction_value , 'r-' , lw = 5 )\n",
    "        plt.pause(0.1)"
   ]
  },
  {
   "cell_type": "code",
   "execution_count": null,
   "metadata": {},
   "outputs": [],
   "source": []
  }
 ],
 "metadata": {
  "kernelspec": {
   "display_name": "Python 3",
   "language": "python",
   "name": "python3"
  },
  "language_info": {
   "codemirror_mode": {
    "name": "ipython",
    "version": 3
   },
   "file_extension": ".py",
   "mimetype": "text/x-python",
   "name": "python",
   "nbconvert_exporter": "python",
   "pygments_lexer": "ipython3",
   "version": "3.7.4"
  }
 },
 "nbformat": 4,
 "nbformat_minor": 2
}
