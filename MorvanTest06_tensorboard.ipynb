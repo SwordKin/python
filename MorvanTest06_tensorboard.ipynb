{
 "cells": [
  {
   "cell_type": "code",
   "execution_count": 1,
   "metadata": {},
   "outputs": [],
   "source": [
    "from __future__ import print_function , unicode_literals , absolute_import , division\n",
    "import tensorflow as tf\n",
    "import numpy as np"
   ]
  },
  {
   "cell_type": "markdown",
   "metadata": {},
   "source": [
    "## 定义添加层的函数"
   ]
  },
  {
   "cell_type": "code",
   "execution_count": 2,
   "metadata": {},
   "outputs": [],
   "source": [
    "def add_layer(inputs , in_size , out_size , n_layer , activation_function=None ):##第二课添加了一个参数n_layer\n",
    "    \n",
    "    layer_name = 'layer%s'%n_layer## 添加layer_name(第二课加)\n",
    "    \n",
    "    with tf.name_scope('layer_name'):##第二课将layer改为layer_name\n",
    "        with tf.name_scope('weights'):\n",
    "            Weights = tf.Variable(tf.random_normal([in_size , out_size]) , name='W')\n",
    "            \n",
    "            tf.summary.histogram(layer_name + '/weights' , Weights)## 添加historgram（第二课加）\n",
    "        #tf.zeros( 维度，格式，名字)\n",
    "        with tf.name_scope('biases'):\n",
    "            biases = tf.Variable(tf.zeros([1 , out_size]) + 0.1 , name='b' )\n",
    "            \n",
    "            tf.summary.histogram(layer_name + '/biases' , biases)## 添加historgram（第二课加）\n",
    "        with tf.name_scope('Wx_plus_b'):\n",
    "            Wx_plus_b = tf.add(tf.matmul( inputs , Weights ) , biases)\n",
    "        if activation_function is None :\n",
    "            outputs = Wx_plus_b\n",
    "        else:\n",
    "            outputs = activation_function( Wx_plus_b )\n",
    "            ## 添加historgram（第二课加）\n",
    "            tf.summary.histogram(layer_name + '/outputs' , outputs)\n",
    "        return outputs"
   ]
  },
  {
   "cell_type": "markdown",
   "metadata": {},
   "source": [
    "## 真实数据(tensorboard 第二课添加)"
   ]
  },
  {
   "cell_type": "code",
   "execution_count": 3,
   "metadata": {},
   "outputs": [],
   "source": [
    "# Make up some real data\n",
    "x_data = np.linspace(-1 , 1 ,300)[:, np.newaxis]\n",
    "noise = np.random.normal(0 , 0.05 , x_data.shape)\n",
    "y_data = np.square(x_data) - 0.5 + noise"
   ]
  },
  {
   "cell_type": "markdown",
   "metadata": {},
   "source": [
    "## 定义xs,ys用于输入数据"
   ]
  },
  {
   "cell_type": "code",
   "execution_count": 4,
   "metadata": {},
   "outputs": [],
   "source": [
    "with tf.name_scope('inputs'):\n",
    "    xs = tf.placeholder( tf.float32 , [ None , 1 ] , name='x_input')\n",
    "    ys = tf.placeholder( tf.float32 , [ None , 1 ] , name='y_input')"
   ]
  },
  {
   "cell_type": "markdown",
   "metadata": {},
   "source": [
    "## 添加层(第二课中在两个函数中添加两个参数，n_layer=1和n_layer=2)"
   ]
  },
  {
   "cell_type": "code",
   "execution_count": 5,
   "metadata": {},
   "outputs": [],
   "source": [
    "l1 = add_layer( xs , 1 , 10 , n_layer=1 , activation_function=tf.nn.relu )\n",
    "prediction = add_layer( l1 , 10 , 1 , n_layer=2 , activation_function=None )"
   ]
  },
  {
   "cell_type": "markdown",
   "metadata": {},
   "source": [
    "## 损失率"
   ]
  },
  {
   "cell_type": "code",
   "execution_count": 6,
   "metadata": {},
   "outputs": [],
   "source": [
    "with tf.name_scope('loss'):\n",
    "    loss = tf.reduce_mean(tf.reduce_sum(tf.square(ys - prediction) , reduction_indices=[1]))\n",
    "    \n",
    "    \n",
    "    tf.summary.scalar('loss',loss)## 添加显示至scalar(第二课加)"
   ]
  },
  {
   "cell_type": "markdown",
   "metadata": {},
   "source": [
    "## 训练方式"
   ]
  },
  {
   "cell_type": "code",
   "execution_count": 7,
   "metadata": {},
   "outputs": [],
   "source": [
    "with tf.name_scope('train'):\n",
    "    train_step = tf.train.GradientDescentOptimizer(0.1).minimize(loss)"
   ]
  },
  {
   "cell_type": "markdown",
   "metadata": {},
   "source": [
    "## 建立会话"
   ]
  },
  {
   "cell_type": "code",
   "execution_count": 8,
   "metadata": {},
   "outputs": [],
   "source": [
    "sess = tf.Session()\n",
    "\n",
    "merged = tf.summary.merge_all()##将所有的summary合并在一起通过下方的FileWriter输出\n",
    "\n",
    "writer = tf.summary.FileWriter(\"logs/\" , sess.graph)"
   ]
  },
  {
   "cell_type": "markdown",
   "metadata": {},
   "source": [
    "### 此处运行完之后会生成一个文件位于logs目录下；\n",
    "### 进入cmd命令行模式切换到**正确的路径**下，我的logs路径是：C:\\Users\\24301（\\logs），括号内的不需要，cd C:\\Users\\24301;\n",
    "### 激活tensorflow\n",
    "### 输入tensorboard --logdir=logs,复制生成的网址路径，改电脑名为localhost在浏览器中打开"
   ]
  },
  {
   "cell_type": "markdown",
   "metadata": {},
   "source": [
    "## 初始化"
   ]
  },
  {
   "cell_type": "code",
   "execution_count": 9,
   "metadata": {},
   "outputs": [],
   "source": [
    "sess.run(tf.global_variables_initializer())"
   ]
  },
  {
   "cell_type": "code",
   "execution_count": 11,
   "metadata": {},
   "outputs": [],
   "source": [
    "for i in range(1000):\n",
    "    sess.run(train_step , feed_dict={xs:x_data , ys:y_data})\n",
    "    if i%50 == 0 :\n",
    "        result = sess.run(merged , feed_dict={xs:x_data , ys:y_data})\n",
    "        writer.add_summary(result , i)"
   ]
  }
 ],
 "metadata": {
  "kernelspec": {
   "display_name": "Python 3",
   "language": "python",
   "name": "python3"
  },
  "language_info": {
   "codemirror_mode": {
    "name": "ipython",
    "version": 3
   },
   "file_extension": ".py",
   "mimetype": "text/x-python",
   "name": "python",
   "nbconvert_exporter": "python",
   "pygments_lexer": "ipython3",
   "version": "3.7.4"
  }
 },
 "nbformat": 4,
 "nbformat_minor": 2
}
