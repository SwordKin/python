{
 "cells": [
  {
   "cell_type": "code",
   "execution_count": 1,
   "metadata": {},
   "outputs": [],
   "source": [
    "import tensorflow as tf\n",
    "import numpy as np"
   ]
  },
  {
   "cell_type": "markdown",
   "metadata": {},
   "source": [
    "## 将数据保存到指定路径的文件夹中（没有完全保存神经网络）"
   ]
  },
  {
   "cell_type": "code",
   "execution_count": 2,
   "metadata": {},
   "outputs": [],
   "source": [
    "# ## Save to file\n",
    "# # remembei to define the same dtype and shape when restore\n",
    "# W = tf.Variable([[1,2,3] , [3,4,5]] , dtype=tf.float32 , name='weights')\n",
    "# b = tf.Variable([[1,2,3]] ,dtype=tf.float32 , name='biases')\n",
    "\n",
    "# init = tf.global_variables_initializer()\n",
    "\n",
    "# saver = tf.train.Saver()\n",
    "\n",
    "# with tf.Session() as sess:\n",
    "#     sess.run(init)\n",
    "#     save_path = saver.save(sess , \"my_net/save_net.ckpt\")\n",
    "#     print(\"Save to path:\" , save_path)"
   ]
  },
  {
   "cell_type": "markdown",
   "metadata": {},
   "source": [
    "# 定义weights和biases"
   ]
  },
  {
   "cell_type": "code",
   "execution_count": 3,
   "metadata": {},
   "outputs": [],
   "source": [
    "#restore variables\n",
    "#redefine the same shape and same type for you variables\n",
    "W = tf.Variable(np.arange(6).reshape((2,3)) , dtype=tf.float32 , name=\"weights\")\n",
    "b = tf.Variable(np.arange(3).reshape((1,3)) , dtype=tf.float32 , name=\"biases\")"
   ]
  },
  {
   "cell_type": "code",
   "execution_count": 4,
   "metadata": {},
   "outputs": [],
   "source": [
    "# not neeed init step"
   ]
  },
  {
   "cell_type": "code",
   "execution_count": 5,
   "metadata": {},
   "outputs": [],
   "source": [
    "saver = tf.train.Saver()"
   ]
  },
  {
   "cell_type": "code",
   "execution_count": 6,
   "metadata": {},
   "outputs": [
    {
     "name": "stderr",
     "output_type": "stream",
     "text": [
      "WARNING: Logging before flag parsing goes to stderr.\n",
      "W0915 17:56:17.927454 14296 deprecation.py:323] From C:\\Users\\24301\\Anaconda3\\envs\\tensorflow\\lib\\site-packages\\tensorflow\\python\\training\\saver.py:1276: checkpoint_exists (from tensorflow.python.training.checkpoint_management) is deprecated and will be removed in a future version.\n",
      "Instructions for updating:\n",
      "Use standard file APIs to check for files with this prefix.\n"
     ]
    },
    {
     "name": "stdout",
     "output_type": "stream",
     "text": [
      "weights: [[1. 2. 3.]\n",
      " [3. 4. 5.]]\n",
      "biases: [[1. 2. 3.]]\n"
     ]
    }
   ],
   "source": [
    "with tf.Session() as sess:\n",
    "    saver.restore(sess , \"my_net/save_net.ckpt\")\n",
    "    print(\"weights:\" , sess.run(W))\n",
    "    print(\"biases:\" , sess.run(b))"
   ]
  },
  {
   "cell_type": "code",
   "execution_count": null,
   "metadata": {},
   "outputs": [],
   "source": []
  }
 ],
 "metadata": {
  "kernelspec": {
   "display_name": "Python 3",
   "language": "python",
   "name": "python3"
  },
  "language_info": {
   "codemirror_mode": {
    "name": "ipython",
    "version": 3
   },
   "file_extension": ".py",
   "mimetype": "text/x-python",
   "name": "python",
   "nbconvert_exporter": "python",
   "pygments_lexer": "ipython3",
   "version": "3.7.4"
  }
 },
 "nbformat": 4,
 "nbformat_minor": 2
}
